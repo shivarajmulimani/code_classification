{
 "cells": [
  {
   "cell_type": "code",
   "execution_count": 8,
   "id": "nonprofit-colon",
   "metadata": {},
   "outputs": [],
   "source": [
    "import pandas as pd\n",
    "import os "
   ]
  },
  {
   "cell_type": "code",
   "execution_count": 9,
   "id": "optional-happiness",
   "metadata": {},
   "outputs": [],
   "source": [
    "base = '/home/shivaraj/Desktop/shiv_git/Assignment/report/'\n",
    "files = os.listdir(base)"
   ]
  },
  {
   "cell_type": "code",
   "execution_count": 10,
   "id": "remarkable-bridges",
   "metadata": {},
   "outputs": [],
   "source": [
    "df_x = pd.DataFrame()\n",
    "for file in files:\n",
    "    df = pd.read_csv(base+file)\n",
    "    df_x = pd.concat([df, df_x])"
   ]
  },
  {
   "cell_type": "code",
   "execution_count": 11,
   "id": "systematic-brooklyn",
   "metadata": {},
   "outputs": [
    {
     "data": {
      "text/html": [
       "<div>\n",
       "<style scoped>\n",
       "    .dataframe tbody tr th:only-of-type {\n",
       "        vertical-align: middle;\n",
       "    }\n",
       "\n",
       "    .dataframe tbody tr th {\n",
       "        vertical-align: top;\n",
       "    }\n",
       "\n",
       "    .dataframe thead th {\n",
       "        text-align: right;\n",
       "    }\n",
       "</style>\n",
       "<table border=\"1\" class=\"dataframe\">\n",
       "  <thead>\n",
       "    <tr style=\"text-align: right;\">\n",
       "      <th></th>\n",
       "      <th>Unnamed: 0</th>\n",
       "      <th>cyclomatic_complexity</th>\n",
       "      <th>length</th>\n",
       "      <th>file_name</th>\n",
       "      <th>number_of_functions</th>\n",
       "      <th>average_function_lenght</th>\n",
       "      <th>code_to_comment_ratio_percent</th>\n",
       "    </tr>\n",
       "  </thead>\n",
       "  <tbody>\n",
       "    <tr>\n",
       "      <th>0</th>\n",
       "      <td>0</td>\n",
       "      <td>14</td>\n",
       "      <td>157</td>\n",
       "      <td>javascript_prog.js</td>\n",
       "      <td>10</td>\n",
       "      <td>15.700000</td>\n",
       "      <td>10.828025</td>\n",
       "    </tr>\n",
       "    <tr>\n",
       "      <th>0</th>\n",
       "      <td>0</td>\n",
       "      <td>1</td>\n",
       "      <td>5</td>\n",
       "      <td>sample3.c</td>\n",
       "      <td>1</td>\n",
       "      <td>5.000000</td>\n",
       "      <td>20.000000</td>\n",
       "    </tr>\n",
       "    <tr>\n",
       "      <th>0</th>\n",
       "      <td>0</td>\n",
       "      <td>10</td>\n",
       "      <td>60</td>\n",
       "      <td>sample.cpp</td>\n",
       "      <td>4</td>\n",
       "      <td>15.000000</td>\n",
       "      <td>18.333333</td>\n",
       "    </tr>\n",
       "    <tr>\n",
       "      <th>0</th>\n",
       "      <td>0</td>\n",
       "      <td>2</td>\n",
       "      <td>8</td>\n",
       "      <td>test.py</td>\n",
       "      <td>1</td>\n",
       "      <td>8.000000</td>\n",
       "      <td>37.500000</td>\n",
       "    </tr>\n",
       "    <tr>\n",
       "      <th>0</th>\n",
       "      <td>0</td>\n",
       "      <td>10</td>\n",
       "      <td>61</td>\n",
       "      <td>ruby_prog.rb</td>\n",
       "      <td>7</td>\n",
       "      <td>8.714286</td>\n",
       "      <td>14.754098</td>\n",
       "    </tr>\n",
       "    <tr>\n",
       "      <th>0</th>\n",
       "      <td>0</td>\n",
       "      <td>3</td>\n",
       "      <td>24</td>\n",
       "      <td>sample1.c</td>\n",
       "      <td>1</td>\n",
       "      <td>24.000000</td>\n",
       "      <td>0.000000</td>\n",
       "    </tr>\n",
       "    <tr>\n",
       "      <th>0</th>\n",
       "      <td>0</td>\n",
       "      <td>6</td>\n",
       "      <td>15</td>\n",
       "      <td>sample3.py</td>\n",
       "      <td>2</td>\n",
       "      <td>7.500000</td>\n",
       "      <td>20.000000</td>\n",
       "    </tr>\n",
       "  </tbody>\n",
       "</table>\n",
       "</div>"
      ],
      "text/plain": [
       "   Unnamed: 0  cyclomatic_complexity  length           file_name  \\\n",
       "0           0                     14     157  javascript_prog.js   \n",
       "0           0                      1       5           sample3.c   \n",
       "0           0                     10      60          sample.cpp   \n",
       "0           0                      2       8             test.py   \n",
       "0           0                     10      61        ruby_prog.rb   \n",
       "0           0                      3      24           sample1.c   \n",
       "0           0                      6      15          sample3.py   \n",
       "\n",
       "   number_of_functions  average_function_lenght  code_to_comment_ratio_percent  \n",
       "0                   10                15.700000                      10.828025  \n",
       "0                    1                 5.000000                      20.000000  \n",
       "0                    4                15.000000                      18.333333  \n",
       "0                    1                 8.000000                      37.500000  \n",
       "0                    7                 8.714286                      14.754098  \n",
       "0                    1                24.000000                       0.000000  \n",
       "0                    2                 7.500000                      20.000000  "
      ]
     },
     "execution_count": 11,
     "metadata": {},
     "output_type": "execute_result"
    }
   ],
   "source": [
    "df_x"
   ]
  },
  {
   "cell_type": "code",
   "execution_count": null,
   "id": "assumed-jaguar",
   "metadata": {},
   "outputs": [],
   "source": []
  }
 ],
 "metadata": {
  "kernelspec": {
   "display_name": "Python 3",
   "language": "python",
   "name": "python3"
  },
  "language_info": {
   "codemirror_mode": {
    "name": "ipython",
    "version": 3
   },
   "file_extension": ".py",
   "mimetype": "text/x-python",
   "name": "python",
   "nbconvert_exporter": "python",
   "pygments_lexer": "ipython3",
   "version": "3.8.5"
  }
 },
 "nbformat": 4,
 "nbformat_minor": 5
}
